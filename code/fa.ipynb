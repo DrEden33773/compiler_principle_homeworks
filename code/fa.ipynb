{
 "cells": [
  {
   "cell_type": "markdown",
   "metadata": {},
   "source": [
    "# 有限自动机 (FA)\n"
   ]
  },
  {
   "cell_type": "markdown",
   "metadata": {},
   "source": [
    "先明确以下结论:\n",
    "\n",
    "$$\n",
    "\\begin{align}\n",
    "\\text{DFA} \\subset \\text{NFA}\n",
    "\\end{align}\n",
    "$$\n"
   ]
  },
  {
   "cell_type": "markdown",
   "metadata": {},
   "source": [
    "因此我们, 首先对 `非确定有限自动机 (NFA)` 进行实现\n"
   ]
  },
  {
   "cell_type": "code",
   "execution_count": 1,
   "metadata": {},
   "outputs": [],
   "source": [
    "from attr import dataclass\n",
    "from typing import Any\n",
    "\n",
    "T = Any\n",
    "EPSILON = None\n",
    "\n",
    "\n",
    "@dataclass\n",
    "class NFA:\n",
    "    \"\"\"NFA\"\"\"\n",
    "\n",
    "    states: set[T]\n",
    "    alphabet: set[T]\n",
    "    transitions: dict[T, dict[T, set[T]]]\n",
    "    start: T\n",
    "    finals: set[T]\n",
    "\n",
    "    def __repr__(self):\n",
    "        return f\"\"\"NFA{{\n",
    "    states={self.states},\n",
    "    alphabet={self.alphabet},\n",
    "    transitions={self.transitions},\n",
    "    start={self.start},\n",
    "    finals={self.finals}\n",
    "}}\"\"\""
   ]
  }
 ],
 "metadata": {
  "kernelspec": {
   "display_name": "base",
   "language": "python",
   "name": "python3"
  },
  "language_info": {
   "codemirror_mode": {
    "name": "ipython",
    "version": 3
   },
   "file_extension": ".py",
   "mimetype": "text/x-python",
   "name": "python",
   "nbconvert_exporter": "python",
   "pygments_lexer": "ipython3",
   "version": "3.11.4"
  }
 },
 "nbformat": 4,
 "nbformat_minor": 2
}
